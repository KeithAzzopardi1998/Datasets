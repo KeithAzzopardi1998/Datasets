{
 "metadata": {
  "language_info": {
   "codemirror_mode": {
    "name": "ipython",
    "version": 3
   },
   "file_extension": ".py",
   "mimetype": "text/x-python",
   "name": "python",
   "nbconvert_exporter": "python",
   "pygments_lexer": "ipython3",
   "version": "3.8.6-final"
  },
  "orig_nbformat": 2,
  "kernelspec": {
   "name": "python38664bitjargoconda4f0ee05060cc49e78d629478e5e47a11",
   "display_name": "Python 3.8.6 64-bit ('jargo': conda)"
  }
 },
 "nbformat": 4,
 "nbformat_minor": 2,
 "cells": [
  {
   "cell_type": "code",
   "execution_count": 1,
   "metadata": {},
   "outputs": [],
   "source": [
    "import numpy as np \n",
    "np.random.seed(100)\n",
    "import matplotlib.pyplot as plt \n",
    "%matplotlib inline\n",
    "import seaborn as sns\n",
    "import pandas as pd \n",
    "\n",
    "import JargoInstanceHelper as jih \n"
   ]
  },
  {
   "source": [
    "# Loading the instance"
   ],
   "cell_type": "markdown",
   "metadata": {}
  },
  {
   "cell_type": "code",
   "execution_count": 2,
   "metadata": {},
   "outputs": [
    {
     "output_type": "stream",
     "name": "stdout",
     "text": [
      "DEBUG: loading instance from Manhattan/mny-1-5000.instance\nDEBUG: loaded instance data with 10033 entities\nDEBUG: instance contains 5033 customers\nDEBUG: instance contains 5000 vehicles\n"
     ]
    }
   ],
   "source": [
    "instance_path=\"Manhattan/mny-1-5000.instance\"\n",
    "customers, vehicles = jih.loadInstance(instance_path,debug=True)"
   ]
  },
  {
   "source": [
    "# Vehicle Statistics"
   ],
   "cell_type": "markdown",
   "metadata": {}
  },
  {
   "cell_type": "code",
   "execution_count": 3,
   "metadata": {},
   "outputs": [
    {
     "output_type": "execute_result",
     "data": {
      "text/plain": [
       "   id  origin  destination  quantity  early\n",
       "0   1     811            0         3      0\n",
       "1   2    7144            0         3      0\n",
       "2   3   10068            0         3      0\n",
       "3   4    9694            0         3      0\n",
       "4   5    5999            0         3      0"
      ],
      "text/html": "<div>\n<style scoped>\n    .dataframe tbody tr th:only-of-type {\n        vertical-align: middle;\n    }\n\n    .dataframe tbody tr th {\n        vertical-align: top;\n    }\n\n    .dataframe thead th {\n        text-align: right;\n    }\n</style>\n<table border=\"1\" class=\"dataframe\">\n  <thead>\n    <tr style=\"text-align: right;\">\n      <th></th>\n      <th>id</th>\n      <th>origin</th>\n      <th>destination</th>\n      <th>quantity</th>\n      <th>early</th>\n    </tr>\n  </thead>\n  <tbody>\n    <tr>\n      <th>0</th>\n      <td>1</td>\n      <td>811</td>\n      <td>0</td>\n      <td>3</td>\n      <td>0</td>\n    </tr>\n    <tr>\n      <th>1</th>\n      <td>2</td>\n      <td>7144</td>\n      <td>0</td>\n      <td>3</td>\n      <td>0</td>\n    </tr>\n    <tr>\n      <th>2</th>\n      <td>3</td>\n      <td>10068</td>\n      <td>0</td>\n      <td>3</td>\n      <td>0</td>\n    </tr>\n    <tr>\n      <th>3</th>\n      <td>4</td>\n      <td>9694</td>\n      <td>0</td>\n      <td>3</td>\n      <td>0</td>\n    </tr>\n    <tr>\n      <th>4</th>\n      <td>5</td>\n      <td>5999</td>\n      <td>0</td>\n      <td>3</td>\n      <td>0</td>\n    </tr>\n  </tbody>\n</table>\n</div>"
     },
     "metadata": {},
     "execution_count": 3
    }
   ],
   "source": [
    "vehicles.head(5)"
   ]
  },
  {
   "source": [
    "There are two types of vehicles:\n",
    " - Type 3: carpooling vehicles with destinations of their own\n",
    " - Type 4: shared taxis which roam around serving customers"
   ],
   "cell_type": "markdown",
   "metadata": {}
  },
  {
   "cell_type": "code",
   "execution_count": 4,
   "metadata": {},
   "outputs": [
    {
     "output_type": "execute_result",
     "data": {
      "text/plain": [
       "type\n",
       "4    5000\n",
       "dtype: int64"
      ]
     },
     "metadata": {},
     "execution_count": 4
    }
   ],
   "source": [
    "#type 4 vehicles only have an origin, and their destination\n",
    "#is set to node 0, which acts as a dummy node in Jargo\n",
    "vehicles['type']=np.where(vehicles['destination']==0,4,3)\n",
    "vehicles.groupby('type').size()"
   ]
  },
  {
   "cell_type": "code",
   "execution_count": 5,
   "metadata": {},
   "outputs": [
    {
     "output_type": "stream",
     "name": "stdout",
     "text": [
      "mean number of seats per vehicle: 3.0\nDetailed breakdown:\n"
     ]
    },
    {
     "output_type": "execute_result",
     "data": {
      "text/plain": [
       "quantity\n",
       "3    5000\n",
       "dtype: int64"
      ]
     },
     "metadata": {},
     "execution_count": 5
    }
   ],
   "source": [
    "print(\"mean number of seats per vehicle:\",vehicles['quantity'].mean())\n",
    "print(\"Detailed breakdown:\")\n",
    "vehicles.groupby('quantity').size()"
   ]
  },
  {
   "source": [
    "# Request Statistics"
   ],
   "cell_type": "markdown",
   "metadata": {}
  },
  {
   "source": [
    "There are two types of customers:\n",
    "- Type 1: single customer travelling alone\n",
    "- Type 2: group of customers travelling together"
   ],
   "cell_type": "markdown",
   "metadata": {}
  },
  {
   "cell_type": "code",
   "execution_count": 6,
   "metadata": {},
   "outputs": [
    {
     "output_type": "execute_result",
     "data": {
      "text/plain": [
       "type\n",
       "1    5033\n",
       "dtype: int64"
      ]
     },
     "metadata": {},
     "execution_count": 6
    }
   ],
   "source": [
    "customers['type']=np.where(customers['quantity']==1,1,2)\n",
    "customers.groupby('type').size()"
   ]
  },
  {
   "cell_type": "code",
   "execution_count": 7,
   "metadata": {},
   "outputs": [
    {
     "output_type": "stream",
     "name": "stdout",
     "text": [
      "mean number of passengers per request: 1.0\nDetailed breakdown:\n"
     ]
    },
    {
     "output_type": "execute_result",
     "data": {
      "text/plain": [
       "quantity\n",
       "1    5033\n",
       "dtype: int64"
      ]
     },
     "metadata": {},
     "execution_count": 7
    }
   ],
   "source": [
    "print(\"mean number of passengers per request:\",customers['quantity'].mean())\n",
    "print(\"Detailed breakdown:\")\n",
    "customers.groupby('quantity').size()"
   ]
  }
 ]
}