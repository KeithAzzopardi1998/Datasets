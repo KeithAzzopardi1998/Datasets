{
 "metadata": {
  "language_info": {
   "codemirror_mode": {
    "name": "ipython",
    "version": 3
   },
   "file_extension": ".py",
   "mimetype": "text/x-python",
   "name": "python",
   "nbconvert_exporter": "python",
   "pygments_lexer": "ipython3",
   "version": "3.8.6-final"
  },
  "orig_nbformat": 2,
  "kernelspec": {
   "name": "python38664bitjargoconda4f0ee05060cc49e78d629478e5e47a11",
   "display_name": "Python 3.8.6 64-bit ('jargo': conda)",
   "language": "python"
  }
 },
 "nbformat": 4,
 "nbformat_minor": 2,
 "cells": [
  {
   "cell_type": "code",
   "execution_count": 1,
   "metadata": {},
   "outputs": [],
   "source": [
    "import numpy as np \n",
    "np.random.seed(100)\n",
    "import matplotlib.pyplot as plt \n",
    "%matplotlib inline\n",
    "import seaborn as sns\n",
    "import pandas as pd \n",
    "\n",
    "import JargoInstanceHelper as jih \n"
   ]
  },
  {
   "source": [
    "# Creating instances with higher capacities"
   ],
   "cell_type": "markdown",
   "metadata": {}
  },
  {
   "cell_type": "code",
   "execution_count": 5,
   "metadata": {},
   "outputs": [
    {
     "output_type": "stream",
     "name": "stdout",
     "text": [
      "DEBUG: loading instance from Manhattan/mny-1-5000.instance\nDEBUG: loaded instance data with 10033 entities\nDEBUG: instance contains 5033 customers\nDEBUG: instance contains 5000 vehicles\n"
     ]
    }
   ],
   "source": [
    "instance_path=\"Manhattan/mny-1-5000.instance\"\n",
    "customers, vehicles = jih.loadInstance(instance_path,debug=True)"
   ]
  },
  {
   "cell_type": "code",
   "execution_count": 7,
   "metadata": {},
   "outputs": [],
   "source": [
    "vehicles['quantity']=6\n",
    "jih.saveInstance('Manhattan/mny-6-5000.instance',customers,vehicles)"
   ]
  },
  {
   "cell_type": "code",
   "execution_count": 9,
   "metadata": {},
   "outputs": [],
   "source": [
    "vehicles['quantity']=10\n",
    "jih.saveInstance('Manhattan/mny-7-5000.instance',customers,vehicles)"
   ]
  },
  {
   "source": [
    "# Creating instances with carpooling vehicles"
   ],
   "cell_type": "markdown",
   "metadata": {}
  },
  {
   "source": [
    "We will create a couple of instances with type 3 vehicles by taking one of the test instances from Manhattan and modifying the destination of the vehicles (which is 0 for all of them by default)"
   ],
   "cell_type": "markdown",
   "metadata": {}
  },
  {
   "cell_type": "code",
   "execution_count": 6,
   "metadata": {},
   "outputs": [
    {
     "output_type": "stream",
     "name": "stdout",
     "text": [
      "DEBUG: loading instance from Manhattan/mny-1-5000.instance\nDEBUG: loaded instance data with 10033 entities\nDEBUG: instance contains 5033 customers\nDEBUG: instance contains 5000 vehicles\n"
     ]
    }
   ],
   "source": [
    "instance_path=\"Manhattan/mny-1-5000.instance\"\n",
    "customers, vehicles = jih.loadInstance(instance_path,debug=True)"
   ]
  },
  {
   "cell_type": "code",
   "execution_count": 7,
   "metadata": {},
   "outputs": [
    {
     "output_type": "stream",
     "name": "stdout",
     "text": [
      "there are 1 vehicles with the same origin and destination\n"
     ]
    },
    {
     "output_type": "execute_result",
     "data": {
      "text/plain": [
       "                id        origin   destination  quantity   early\n",
       "count  5000.000000   5000.000000   5000.000000    5000.0  5000.0\n",
       "mean   2500.500000   5951.454200   3074.970000       3.0     0.0\n",
       "std    1443.520003   3540.830722   3976.650628       0.0     0.0\n",
       "min       1.000000      2.000000      0.000000       3.0     0.0\n",
       "25%    1250.750000   2914.000000      0.000000       3.0     0.0\n",
       "50%    2500.500000   5717.000000      0.500000       3.0     0.0\n",
       "75%    3750.250000   9073.250000   6060.250000       3.0     0.0\n",
       "max    5000.000000  12309.000000  12313.000000       3.0     0.0"
      ],
      "text/html": "<div>\n<style scoped>\n    .dataframe tbody tr th:only-of-type {\n        vertical-align: middle;\n    }\n\n    .dataframe tbody tr th {\n        vertical-align: top;\n    }\n\n    .dataframe thead th {\n        text-align: right;\n    }\n</style>\n<table border=\"1\" class=\"dataframe\">\n  <thead>\n    <tr style=\"text-align: right;\">\n      <th></th>\n      <th>id</th>\n      <th>origin</th>\n      <th>destination</th>\n      <th>quantity</th>\n      <th>early</th>\n    </tr>\n  </thead>\n  <tbody>\n    <tr>\n      <th>count</th>\n      <td>5000.000000</td>\n      <td>5000.000000</td>\n      <td>5000.000000</td>\n      <td>5000.0</td>\n      <td>5000.0</td>\n    </tr>\n    <tr>\n      <th>mean</th>\n      <td>2500.500000</td>\n      <td>5951.454200</td>\n      <td>3074.970000</td>\n      <td>3.0</td>\n      <td>0.0</td>\n    </tr>\n    <tr>\n      <th>std</th>\n      <td>1443.520003</td>\n      <td>3540.830722</td>\n      <td>3976.650628</td>\n      <td>0.0</td>\n      <td>0.0</td>\n    </tr>\n    <tr>\n      <th>min</th>\n      <td>1.000000</td>\n      <td>2.000000</td>\n      <td>0.000000</td>\n      <td>3.0</td>\n      <td>0.0</td>\n    </tr>\n    <tr>\n      <th>25%</th>\n      <td>1250.750000</td>\n      <td>2914.000000</td>\n      <td>0.000000</td>\n      <td>3.0</td>\n      <td>0.0</td>\n    </tr>\n    <tr>\n      <th>50%</th>\n      <td>2500.500000</td>\n      <td>5717.000000</td>\n      <td>0.500000</td>\n      <td>3.0</td>\n      <td>0.0</td>\n    </tr>\n    <tr>\n      <th>75%</th>\n      <td>3750.250000</td>\n      <td>9073.250000</td>\n      <td>6060.250000</td>\n      <td>3.0</td>\n      <td>0.0</td>\n    </tr>\n    <tr>\n      <th>max</th>\n      <td>5000.000000</td>\n      <td>12309.000000</td>\n      <td>12313.000000</td>\n      <td>3.0</td>\n      <td>0.0</td>\n    </tr>\n  </tbody>\n</table>\n</div>"
     },
     "metadata": {},
     "execution_count": 7
    }
   ],
   "source": [
    "to_modify=vehicles.sample(frac=0.5)\n",
    "#we kwow that there are 12,320 vertices in Manhattan\n",
    "to_modify['destination']=np.random.randint(1, 12320, to_modify.shape[0])\n",
    "vehicles.update(to_modify)\n",
    "#\"update\" automatically conversts all numeric values to doubles\n",
    "vehicles=vehicles.astype(int)\n",
    "print(\"there are %d vehicles with the same origin and destination\"%len(vehicles[vehicles['origin']==vehicles['destination']]))\n",
    "vehicles.describe()"
   ]
  },
  {
   "cell_type": "code",
   "execution_count": 8,
   "metadata": {},
   "outputs": [
    {
     "output_type": "execute_result",
     "data": {
      "text/plain": [
       "        id  origin  destination  quantity  early  late\n",
       "0        1     811         5939         3      0  2000\n",
       "1        2    7144            0         3      0  2000\n",
       "2        3   10068            0         3      0  2000\n",
       "3        4    9694         1201         3      0  2000\n",
       "4        5    5999            0         3      0  2000\n",
       "...    ...     ...          ...       ...    ...   ...\n",
       "4995  4996    5934            0         3      0  2000\n",
       "4996  4997    5308         6512         3      0  2000\n",
       "4997  4998    4971        11464         3      0  2000\n",
       "4998  4999     840            0         3      0  2000\n",
       "4999  5000    4696            0         3      0  2000\n",
       "\n",
       "[5000 rows x 6 columns]"
      ],
      "text/html": "<div>\n<style scoped>\n    .dataframe tbody tr th:only-of-type {\n        vertical-align: middle;\n    }\n\n    .dataframe tbody tr th {\n        vertical-align: top;\n    }\n\n    .dataframe thead th {\n        text-align: right;\n    }\n</style>\n<table border=\"1\" class=\"dataframe\">\n  <thead>\n    <tr style=\"text-align: right;\">\n      <th></th>\n      <th>id</th>\n      <th>origin</th>\n      <th>destination</th>\n      <th>quantity</th>\n      <th>early</th>\n      <th>late</th>\n    </tr>\n  </thead>\n  <tbody>\n    <tr>\n      <th>0</th>\n      <td>1</td>\n      <td>811</td>\n      <td>5939</td>\n      <td>3</td>\n      <td>0</td>\n      <td>2000</td>\n    </tr>\n    <tr>\n      <th>1</th>\n      <td>2</td>\n      <td>7144</td>\n      <td>0</td>\n      <td>3</td>\n      <td>0</td>\n      <td>2000</td>\n    </tr>\n    <tr>\n      <th>2</th>\n      <td>3</td>\n      <td>10068</td>\n      <td>0</td>\n      <td>3</td>\n      <td>0</td>\n      <td>2000</td>\n    </tr>\n    <tr>\n      <th>3</th>\n      <td>4</td>\n      <td>9694</td>\n      <td>1201</td>\n      <td>3</td>\n      <td>0</td>\n      <td>2000</td>\n    </tr>\n    <tr>\n      <th>4</th>\n      <td>5</td>\n      <td>5999</td>\n      <td>0</td>\n      <td>3</td>\n      <td>0</td>\n      <td>2000</td>\n    </tr>\n    <tr>\n      <th>...</th>\n      <td>...</td>\n      <td>...</td>\n      <td>...</td>\n      <td>...</td>\n      <td>...</td>\n      <td>...</td>\n    </tr>\n    <tr>\n      <th>4995</th>\n      <td>4996</td>\n      <td>5934</td>\n      <td>0</td>\n      <td>3</td>\n      <td>0</td>\n      <td>2000</td>\n    </tr>\n    <tr>\n      <th>4996</th>\n      <td>4997</td>\n      <td>5308</td>\n      <td>6512</td>\n      <td>3</td>\n      <td>0</td>\n      <td>2000</td>\n    </tr>\n    <tr>\n      <th>4997</th>\n      <td>4998</td>\n      <td>4971</td>\n      <td>11464</td>\n      <td>3</td>\n      <td>0</td>\n      <td>2000</td>\n    </tr>\n    <tr>\n      <th>4998</th>\n      <td>4999</td>\n      <td>840</td>\n      <td>0</td>\n      <td>3</td>\n      <td>0</td>\n      <td>2000</td>\n    </tr>\n    <tr>\n      <th>4999</th>\n      <td>5000</td>\n      <td>4696</td>\n      <td>0</td>\n      <td>3</td>\n      <td>0</td>\n      <td>2000</td>\n    </tr>\n  </tbody>\n</table>\n<p>5000 rows × 6 columns</p>\n</div>"
     },
     "metadata": {},
     "execution_count": 8
    }
   ],
   "source": [
    "#setting the late time to 2000 arbitrarily\n",
    "vehicles['late']=2000\n",
    "customers['late']=2000\n",
    "vehicles"
   ]
  },
  {
   "cell_type": "code",
   "execution_count": 9,
   "metadata": {},
   "outputs": [],
   "source": [
    "jih.saveInstance('Manhattan/mny-8-5000.instance',customers,vehicles)"
   ]
  },
  {
   "source": [
    "# Creating a shorter instance to run quick tests"
   ],
   "cell_type": "markdown",
   "metadata": {}
  },
  {
   "cell_type": "code",
   "execution_count": 3,
   "metadata": {},
   "outputs": [
    {
     "output_type": "stream",
     "name": "stdout",
     "text": [
      "DEBUG: loading instance from Manhattan/mny-1-5000.instance\nDEBUG: loaded instance data with 10033 entities\nDEBUG: instance contains 5033 customers\nDEBUG: instance contains 5000 vehicles\n"
     ]
    }
   ],
   "source": [
    "instance_path=\"Manhattan/mny-1-5000.instance\"\n",
    "customers, vehicles = jih.loadInstance(instance_path,debug=True)"
   ]
  },
  {
   "cell_type": "code",
   "execution_count": 4,
   "metadata": {},
   "outputs": [
    {
     "output_type": "execute_result",
     "data": {
      "text/plain": [
       "                 id        origin   destination  quantity        early\n",
       "count   5033.000000   5033.000000   5033.000000    5033.0  5033.000000\n",
       "mean    7517.000000   5874.238228   5970.859527       1.0   928.105702\n",
       "std     1453.046283   3451.784306   3515.563056       0.0   516.798840\n",
       "min     5001.000000      3.000000      1.000000       1.0     1.000000\n",
       "25%     6259.000000   2912.000000   3009.000000       1.0   480.000000\n",
       "50%     7517.000000   5713.000000   5762.000000       1.0   943.000000\n",
       "75%     8775.000000   8835.000000   9097.000000       1.0  1374.000000\n",
       "max    10033.000000  12309.000000  12310.000000       1.0  1800.000000"
      ],
      "text/html": "<div>\n<style scoped>\n    .dataframe tbody tr th:only-of-type {\n        vertical-align: middle;\n    }\n\n    .dataframe tbody tr th {\n        vertical-align: top;\n    }\n\n    .dataframe thead th {\n        text-align: right;\n    }\n</style>\n<table border=\"1\" class=\"dataframe\">\n  <thead>\n    <tr style=\"text-align: right;\">\n      <th></th>\n      <th>id</th>\n      <th>origin</th>\n      <th>destination</th>\n      <th>quantity</th>\n      <th>early</th>\n    </tr>\n  </thead>\n  <tbody>\n    <tr>\n      <th>count</th>\n      <td>5033.000000</td>\n      <td>5033.000000</td>\n      <td>5033.000000</td>\n      <td>5033.0</td>\n      <td>5033.000000</td>\n    </tr>\n    <tr>\n      <th>mean</th>\n      <td>7517.000000</td>\n      <td>5874.238228</td>\n      <td>5970.859527</td>\n      <td>1.0</td>\n      <td>928.105702</td>\n    </tr>\n    <tr>\n      <th>std</th>\n      <td>1453.046283</td>\n      <td>3451.784306</td>\n      <td>3515.563056</td>\n      <td>0.0</td>\n      <td>516.798840</td>\n    </tr>\n    <tr>\n      <th>min</th>\n      <td>5001.000000</td>\n      <td>3.000000</td>\n      <td>1.000000</td>\n      <td>1.0</td>\n      <td>1.000000</td>\n    </tr>\n    <tr>\n      <th>25%</th>\n      <td>6259.000000</td>\n      <td>2912.000000</td>\n      <td>3009.000000</td>\n      <td>1.0</td>\n      <td>480.000000</td>\n    </tr>\n    <tr>\n      <th>50%</th>\n      <td>7517.000000</td>\n      <td>5713.000000</td>\n      <td>5762.000000</td>\n      <td>1.0</td>\n      <td>943.000000</td>\n    </tr>\n    <tr>\n      <th>75%</th>\n      <td>8775.000000</td>\n      <td>8835.000000</td>\n      <td>9097.000000</td>\n      <td>1.0</td>\n      <td>1374.000000</td>\n    </tr>\n    <tr>\n      <th>max</th>\n      <td>10033.000000</td>\n      <td>12309.000000</td>\n      <td>12310.000000</td>\n      <td>1.0</td>\n      <td>1800.000000</td>\n    </tr>\n  </tbody>\n</table>\n</div>"
     },
     "metadata": {},
     "execution_count": 4
    }
   ],
   "source": [
    "customers.describe()"
   ]
  },
  {
   "cell_type": "code",
   "execution_count": 6,
   "metadata": {},
   "outputs": [
    {
     "output_type": "execute_result",
     "data": {
      "text/plain": [
       "                id        origin  destination  quantity   early\n",
       "count  5000.000000   5000.000000       5000.0    5000.0  5000.0\n",
       "mean   2500.500000   5951.454200          0.0       3.0     0.0\n",
       "std    1443.520003   3540.830722          0.0       0.0     0.0\n",
       "min       1.000000      2.000000          0.0       3.0     0.0\n",
       "25%    1250.750000   2914.000000          0.0       3.0     0.0\n",
       "50%    2500.500000   5717.000000          0.0       3.0     0.0\n",
       "75%    3750.250000   9073.250000          0.0       3.0     0.0\n",
       "max    5000.000000  12309.000000          0.0       3.0     0.0"
      ],
      "text/html": "<div>\n<style scoped>\n    .dataframe tbody tr th:only-of-type {\n        vertical-align: middle;\n    }\n\n    .dataframe tbody tr th {\n        vertical-align: top;\n    }\n\n    .dataframe thead th {\n        text-align: right;\n    }\n</style>\n<table border=\"1\" class=\"dataframe\">\n  <thead>\n    <tr style=\"text-align: right;\">\n      <th></th>\n      <th>id</th>\n      <th>origin</th>\n      <th>destination</th>\n      <th>quantity</th>\n      <th>early</th>\n    </tr>\n  </thead>\n  <tbody>\n    <tr>\n      <th>count</th>\n      <td>5000.000000</td>\n      <td>5000.000000</td>\n      <td>5000.0</td>\n      <td>5000.0</td>\n      <td>5000.0</td>\n    </tr>\n    <tr>\n      <th>mean</th>\n      <td>2500.500000</td>\n      <td>5951.454200</td>\n      <td>0.0</td>\n      <td>3.0</td>\n      <td>0.0</td>\n    </tr>\n    <tr>\n      <th>std</th>\n      <td>1443.520003</td>\n      <td>3540.830722</td>\n      <td>0.0</td>\n      <td>0.0</td>\n      <td>0.0</td>\n    </tr>\n    <tr>\n      <th>min</th>\n      <td>1.000000</td>\n      <td>2.000000</td>\n      <td>0.0</td>\n      <td>3.0</td>\n      <td>0.0</td>\n    </tr>\n    <tr>\n      <th>25%</th>\n      <td>1250.750000</td>\n      <td>2914.000000</td>\n      <td>0.0</td>\n      <td>3.0</td>\n      <td>0.0</td>\n    </tr>\n    <tr>\n      <th>50%</th>\n      <td>2500.500000</td>\n      <td>5717.000000</td>\n      <td>0.0</td>\n      <td>3.0</td>\n      <td>0.0</td>\n    </tr>\n    <tr>\n      <th>75%</th>\n      <td>3750.250000</td>\n      <td>9073.250000</td>\n      <td>0.0</td>\n      <td>3.0</td>\n      <td>0.0</td>\n    </tr>\n    <tr>\n      <th>max</th>\n      <td>5000.000000</td>\n      <td>12309.000000</td>\n      <td>0.0</td>\n      <td>3.0</td>\n      <td>0.0</td>\n    </tr>\n  </tbody>\n</table>\n</div>"
     },
     "metadata": {},
     "execution_count": 6
    }
   ],
   "source": [
    "vehicles.describe()"
   ]
  },
  {
   "cell_type": "code",
   "execution_count": 7,
   "metadata": {},
   "outputs": [
    {
     "output_type": "execute_result",
     "data": {
      "text/plain": [
       "761"
      ]
     },
     "metadata": {},
     "execution_count": 7
    }
   ],
   "source": [
    "#creating a shorter simulation by removing all customers which aarrive on the network after 5 minutes\n",
    "len(customers[customers['early']<=(5*60)])"
   ]
  },
  {
   "cell_type": "code",
   "execution_count": 8,
   "metadata": {},
   "outputs": [
    {
     "output_type": "execute_result",
     "data": {
      "text/plain": [
       "        id  origin  destination  quantity  early\n",
       "5000  5001    5346        10858         1      1\n",
       "5001  5002    8191        10836         1      1\n",
       "5002  5003    7698        12154         1      2\n",
       "5003  5004    6262         3572         1      3\n",
       "5004  5005    1186         9750         1      3\n",
       "...    ...     ...          ...       ...    ...\n",
       "5756  5757    1131         9292         1    298\n",
       "5757  5758    4214         4328         1    299\n",
       "5758  5759    3654         4790         1    299\n",
       "5759  5760    6974         3010         1    300\n",
       "5760  5761    7228         3556         1    300\n",
       "\n",
       "[761 rows x 5 columns]"
      ],
      "text/html": "<div>\n<style scoped>\n    .dataframe tbody tr th:only-of-type {\n        vertical-align: middle;\n    }\n\n    .dataframe tbody tr th {\n        vertical-align: top;\n    }\n\n    .dataframe thead th {\n        text-align: right;\n    }\n</style>\n<table border=\"1\" class=\"dataframe\">\n  <thead>\n    <tr style=\"text-align: right;\">\n      <th></th>\n      <th>id</th>\n      <th>origin</th>\n      <th>destination</th>\n      <th>quantity</th>\n      <th>early</th>\n    </tr>\n  </thead>\n  <tbody>\n    <tr>\n      <th>5000</th>\n      <td>5001</td>\n      <td>5346</td>\n      <td>10858</td>\n      <td>1</td>\n      <td>1</td>\n    </tr>\n    <tr>\n      <th>5001</th>\n      <td>5002</td>\n      <td>8191</td>\n      <td>10836</td>\n      <td>1</td>\n      <td>1</td>\n    </tr>\n    <tr>\n      <th>5002</th>\n      <td>5003</td>\n      <td>7698</td>\n      <td>12154</td>\n      <td>1</td>\n      <td>2</td>\n    </tr>\n    <tr>\n      <th>5003</th>\n      <td>5004</td>\n      <td>6262</td>\n      <td>3572</td>\n      <td>1</td>\n      <td>3</td>\n    </tr>\n    <tr>\n      <th>5004</th>\n      <td>5005</td>\n      <td>1186</td>\n      <td>9750</td>\n      <td>1</td>\n      <td>3</td>\n    </tr>\n    <tr>\n      <th>...</th>\n      <td>...</td>\n      <td>...</td>\n      <td>...</td>\n      <td>...</td>\n      <td>...</td>\n    </tr>\n    <tr>\n      <th>5756</th>\n      <td>5757</td>\n      <td>1131</td>\n      <td>9292</td>\n      <td>1</td>\n      <td>298</td>\n    </tr>\n    <tr>\n      <th>5757</th>\n      <td>5758</td>\n      <td>4214</td>\n      <td>4328</td>\n      <td>1</td>\n      <td>299</td>\n    </tr>\n    <tr>\n      <th>5758</th>\n      <td>5759</td>\n      <td>3654</td>\n      <td>4790</td>\n      <td>1</td>\n      <td>299</td>\n    </tr>\n    <tr>\n      <th>5759</th>\n      <td>5760</td>\n      <td>6974</td>\n      <td>3010</td>\n      <td>1</td>\n      <td>300</td>\n    </tr>\n    <tr>\n      <th>5760</th>\n      <td>5761</td>\n      <td>7228</td>\n      <td>3556</td>\n      <td>1</td>\n      <td>300</td>\n    </tr>\n  </tbody>\n</table>\n<p>761 rows × 5 columns</p>\n</div>"
     },
     "metadata": {},
     "execution_count": 8
    }
   ],
   "source": [
    "customers=customers[customers['early']<=(5*60)]\n",
    "jih.saveInstance('Manhattan/mny-9-5000.instance',customers,vehicles)"
   ]
  },
  {
   "source": [
    "# Creating Jargo-compatible instances to reproduce Simonetto 2019 results"
   ],
   "cell_type": "markdown",
   "metadata": {}
  },
  {
   "cell_type": "code",
   "execution_count": 2,
   "metadata": {},
   "outputs": [
    {
     "output_type": "execute_result",
     "data": {
      "text/plain": [
       "         rid      pickup_datetime  passenger_count  pickup_node  dropoff_node\n",
       "0      28715  2013-05-05 01:00:00                1        12096          8197\n",
       "1      28716  2013-05-05 01:00:00                1         2426          3086\n",
       "2      28717  2013-05-05 01:00:00                2         1961          3400\n",
       "3      28718  2013-05-05 01:00:00                1         3771          3072\n",
       "4      28719  2013-05-05 01:00:00                6         4511          1727\n",
       "...      ...                  ...              ...          ...           ...\n",
       "20969  53883  2013-05-05 01:59:58                1         5654          8308\n",
       "20970  53884  2013-05-05 01:59:59                1         7774          9264\n",
       "20971  53885  2013-05-05 01:59:59                2         1747          1185\n",
       "20972  53887  2013-05-05 01:59:59                3         2815          2831\n",
       "20973  53888  2013-05-05 01:59:59                1         5693          3546\n",
       "\n",
       "[20974 rows x 5 columns]"
      ],
      "text/html": "<div>\n<style scoped>\n    .dataframe tbody tr th:only-of-type {\n        vertical-align: middle;\n    }\n\n    .dataframe tbody tr th {\n        vertical-align: top;\n    }\n\n    .dataframe thead th {\n        text-align: right;\n    }\n</style>\n<table border=\"1\" class=\"dataframe\">\n  <thead>\n    <tr style=\"text-align: right;\">\n      <th></th>\n      <th>rid</th>\n      <th>pickup_datetime</th>\n      <th>passenger_count</th>\n      <th>pickup_node</th>\n      <th>dropoff_node</th>\n    </tr>\n  </thead>\n  <tbody>\n    <tr>\n      <th>0</th>\n      <td>28715</td>\n      <td>2013-05-05 01:00:00</td>\n      <td>1</td>\n      <td>12096</td>\n      <td>8197</td>\n    </tr>\n    <tr>\n      <th>1</th>\n      <td>28716</td>\n      <td>2013-05-05 01:00:00</td>\n      <td>1</td>\n      <td>2426</td>\n      <td>3086</td>\n    </tr>\n    <tr>\n      <th>2</th>\n      <td>28717</td>\n      <td>2013-05-05 01:00:00</td>\n      <td>2</td>\n      <td>1961</td>\n      <td>3400</td>\n    </tr>\n    <tr>\n      <th>3</th>\n      <td>28718</td>\n      <td>2013-05-05 01:00:00</td>\n      <td>1</td>\n      <td>3771</td>\n      <td>3072</td>\n    </tr>\n    <tr>\n      <th>4</th>\n      <td>28719</td>\n      <td>2013-05-05 01:00:00</td>\n      <td>6</td>\n      <td>4511</td>\n      <td>1727</td>\n    </tr>\n    <tr>\n      <th>...</th>\n      <td>...</td>\n      <td>...</td>\n      <td>...</td>\n      <td>...</td>\n      <td>...</td>\n    </tr>\n    <tr>\n      <th>20969</th>\n      <td>53883</td>\n      <td>2013-05-05 01:59:58</td>\n      <td>1</td>\n      <td>5654</td>\n      <td>8308</td>\n    </tr>\n    <tr>\n      <th>20970</th>\n      <td>53884</td>\n      <td>2013-05-05 01:59:59</td>\n      <td>1</td>\n      <td>7774</td>\n      <td>9264</td>\n    </tr>\n    <tr>\n      <th>20971</th>\n      <td>53885</td>\n      <td>2013-05-05 01:59:59</td>\n      <td>2</td>\n      <td>1747</td>\n      <td>1185</td>\n    </tr>\n    <tr>\n      <th>20972</th>\n      <td>53887</td>\n      <td>2013-05-05 01:59:59</td>\n      <td>3</td>\n      <td>2815</td>\n      <td>2831</td>\n    </tr>\n    <tr>\n      <th>20973</th>\n      <td>53888</td>\n      <td>2013-05-05 01:59:59</td>\n      <td>1</td>\n      <td>5693</td>\n      <td>3546</td>\n    </tr>\n  </tbody>\n</table>\n<p>20974 rows × 5 columns</p>\n</div>"
     },
     "metadata": {},
     "execution_count": 2
    }
   ],
   "source": [
    "df = pd.read_csv('./Simonetto/filtered_nodeid/may5_hour1.csv')\n",
    "df"
   ]
  },
  {
   "cell_type": "code",
   "execution_count": 2,
   "metadata": {},
   "outputs": [
    {
     "output_type": "stream",
     "name": "stdout",
     "text": [
      "instance requests start at 2013-05-05 01:00:00\ntotal number of requests: 50290\n"
     ]
    },
    {
     "output_type": "execute_result",
     "data": {
      "text/plain": [
       "          id  origin  destination  quantity  early\n",
       "0      28715   12096         8197         1      0\n",
       "1      28716    2426         3086         1      0\n",
       "2      28717    1961         3400         2      0\n",
       "3      28718    3771         3072         1      0\n",
       "4      28719    4511         1727         6      0\n",
       "...      ...     ...          ...       ...    ...\n",
       "12241  89684    1852         5635         1  10798\n",
       "12242  89685   11091        10741         1  10799\n",
       "12243  89686   10198         1781         1  10799\n",
       "12244  89687    3284          184         1  10799\n",
       "12245  89688   10231          838         1  10799\n",
       "\n",
       "[50290 rows x 5 columns]"
      ],
      "text/html": "<div>\n<style scoped>\n    .dataframe tbody tr th:only-of-type {\n        vertical-align: middle;\n    }\n\n    .dataframe tbody tr th {\n        vertical-align: top;\n    }\n\n    .dataframe thead th {\n        text-align: right;\n    }\n</style>\n<table border=\"1\" class=\"dataframe\">\n  <thead>\n    <tr style=\"text-align: right;\">\n      <th></th>\n      <th>id</th>\n      <th>origin</th>\n      <th>destination</th>\n      <th>quantity</th>\n      <th>early</th>\n    </tr>\n  </thead>\n  <tbody>\n    <tr>\n      <th>0</th>\n      <td>28715</td>\n      <td>12096</td>\n      <td>8197</td>\n      <td>1</td>\n      <td>0</td>\n    </tr>\n    <tr>\n      <th>1</th>\n      <td>28716</td>\n      <td>2426</td>\n      <td>3086</td>\n      <td>1</td>\n      <td>0</td>\n    </tr>\n    <tr>\n      <th>2</th>\n      <td>28717</td>\n      <td>1961</td>\n      <td>3400</td>\n      <td>2</td>\n      <td>0</td>\n    </tr>\n    <tr>\n      <th>3</th>\n      <td>28718</td>\n      <td>3771</td>\n      <td>3072</td>\n      <td>1</td>\n      <td>0</td>\n    </tr>\n    <tr>\n      <th>4</th>\n      <td>28719</td>\n      <td>4511</td>\n      <td>1727</td>\n      <td>6</td>\n      <td>0</td>\n    </tr>\n    <tr>\n      <th>...</th>\n      <td>...</td>\n      <td>...</td>\n      <td>...</td>\n      <td>...</td>\n      <td>...</td>\n    </tr>\n    <tr>\n      <th>12241</th>\n      <td>89684</td>\n      <td>1852</td>\n      <td>5635</td>\n      <td>1</td>\n      <td>10798</td>\n    </tr>\n    <tr>\n      <th>12242</th>\n      <td>89685</td>\n      <td>11091</td>\n      <td>10741</td>\n      <td>1</td>\n      <td>10799</td>\n    </tr>\n    <tr>\n      <th>12243</th>\n      <td>89686</td>\n      <td>10198</td>\n      <td>1781</td>\n      <td>1</td>\n      <td>10799</td>\n    </tr>\n    <tr>\n      <th>12244</th>\n      <td>89687</td>\n      <td>3284</td>\n      <td>184</td>\n      <td>1</td>\n      <td>10799</td>\n    </tr>\n    <tr>\n      <th>12245</th>\n      <td>89688</td>\n      <td>10231</td>\n      <td>838</td>\n      <td>1</td>\n      <td>10799</td>\n    </tr>\n  </tbody>\n</table>\n<p>50290 rows × 5 columns</p>\n</div>"
     },
     "metadata": {},
     "execution_count": 2
    }
   ],
   "source": [
    "# a function which takes a .csv (or more than 1) and returns a jargo .instance\n",
    "def csv_to_instance(in_path_list):\n",
    "    df_list=[]\n",
    "    for in_path in in_path_list:\n",
    "        df_list.append(pd.read_csv(in_path))\n",
    "    \n",
    "    df = pd.concat(df_list)\n",
    "    df = df.sort_values('rid')\n",
    "\n",
    "    df['pickup_datetime']=pd.to_datetime(df['pickup_datetime'])\n",
    "    start_time = min(df['pickup_datetime'])\n",
    "    print(\"instance requests start at\",start_time)\n",
    "\n",
    "    df['arrival_time'] = df['pickup_datetime'] - start_time\n",
    "    df['arrival_time'] = df['arrival_time'].dt.seconds\n",
    "\n",
    "    #dropping and reordering some columns to get a dataframe in the Jargo instance format\n",
    "    df = df[['rid','pickup_node','dropoff_node','passenger_count','arrival_time']]\n",
    "    df.columns = ['id','origin','destination','quantity','early']\n",
    "    print(\"total number of requests:\",len(df))\n",
    "    return df\n",
    "\n",
    "csv_to_instance(['./Simonetto/filtered_nodeid/may5_hour1.csv',\n",
    "            './Simonetto/filtered_nodeid/may5_hour2.csv',\n",
    "            './Simonetto/filtered_nodeid/may5_hour3.csv'])"
   ]
  },
  {
   "cell_type": "code",
   "execution_count": 3,
   "metadata": {},
   "outputs": [
    {
     "output_type": "stream",
     "name": "stdout",
     "text": [
      "DEBUG: loading instance from Manhattan/mny-1-5000.instance\nDEBUG: loaded instance data with 10033 entities\nDEBUG: instance contains 5033 customers\nDEBUG: instance contains 5000 vehicles\n"
     ]
    },
    {
     "output_type": "execute_result",
     "data": {
      "text/plain": [
       "        id  origin  destination  quantity  early\n",
       "0        1     811            0         3      0\n",
       "1        2    7144            0         3      0\n",
       "2        3   10068            0         3      0\n",
       "3        4    9694            0         3      0\n",
       "4        5    5999            0         3      0\n",
       "...    ...     ...          ...       ...    ...\n",
       "4995  4996    5934            0         3      0\n",
       "4996  4997    5308            0         3      0\n",
       "4997  4998    4971            0         3      0\n",
       "4998  4999     840            0         3      0\n",
       "4999  5000    4696            0         3      0\n",
       "\n",
       "[5000 rows x 5 columns]"
      ],
      "text/html": "<div>\n<style scoped>\n    .dataframe tbody tr th:only-of-type {\n        vertical-align: middle;\n    }\n\n    .dataframe tbody tr th {\n        vertical-align: top;\n    }\n\n    .dataframe thead th {\n        text-align: right;\n    }\n</style>\n<table border=\"1\" class=\"dataframe\">\n  <thead>\n    <tr style=\"text-align: right;\">\n      <th></th>\n      <th>id</th>\n      <th>origin</th>\n      <th>destination</th>\n      <th>quantity</th>\n      <th>early</th>\n    </tr>\n  </thead>\n  <tbody>\n    <tr>\n      <th>0</th>\n      <td>1</td>\n      <td>811</td>\n      <td>0</td>\n      <td>3</td>\n      <td>0</td>\n    </tr>\n    <tr>\n      <th>1</th>\n      <td>2</td>\n      <td>7144</td>\n      <td>0</td>\n      <td>3</td>\n      <td>0</td>\n    </tr>\n    <tr>\n      <th>2</th>\n      <td>3</td>\n      <td>10068</td>\n      <td>0</td>\n      <td>3</td>\n      <td>0</td>\n    </tr>\n    <tr>\n      <th>3</th>\n      <td>4</td>\n      <td>9694</td>\n      <td>0</td>\n      <td>3</td>\n      <td>0</td>\n    </tr>\n    <tr>\n      <th>4</th>\n      <td>5</td>\n      <td>5999</td>\n      <td>0</td>\n      <td>3</td>\n      <td>0</td>\n    </tr>\n    <tr>\n      <th>...</th>\n      <td>...</td>\n      <td>...</td>\n      <td>...</td>\n      <td>...</td>\n      <td>...</td>\n    </tr>\n    <tr>\n      <th>4995</th>\n      <td>4996</td>\n      <td>5934</td>\n      <td>0</td>\n      <td>3</td>\n      <td>0</td>\n    </tr>\n    <tr>\n      <th>4996</th>\n      <td>4997</td>\n      <td>5308</td>\n      <td>0</td>\n      <td>3</td>\n      <td>0</td>\n    </tr>\n    <tr>\n      <th>4997</th>\n      <td>4998</td>\n      <td>4971</td>\n      <td>0</td>\n      <td>3</td>\n      <td>0</td>\n    </tr>\n    <tr>\n      <th>4998</th>\n      <td>4999</td>\n      <td>840</td>\n      <td>0</td>\n      <td>3</td>\n      <td>0</td>\n    </tr>\n    <tr>\n      <th>4999</th>\n      <td>5000</td>\n      <td>4696</td>\n      <td>0</td>\n      <td>3</td>\n      <td>0</td>\n    </tr>\n  </tbody>\n</table>\n<p>5000 rows × 5 columns</p>\n</div>"
     },
     "metadata": {},
     "execution_count": 3
    }
   ],
   "source": [
    "#we will use the randomly distributed vehicle locations of the other Manhattan instances\n",
    "_, vehicles = jih.loadInstance(\"Manhattan/mny-1-5000.instance\",debug=True)\n",
    "vehicles"
   ]
  },
  {
   "cell_type": "code",
   "execution_count": 4,
   "metadata": {},
   "outputs": [
    {
     "output_type": "stream",
     "name": "stdout",
     "text": [
      "instance requests start at 2013-05-05 00:00:00\ntotal number of requests: 62928\n"
     ]
    }
   ],
   "source": [
    "#the test instance will contain the first 3 hours of requests\n",
    "test_filenames = [\"./Simonetto/filtered_nodeid/may5_hour%d.csv\"%hour for hour in [0,1,2]]\n",
    "customers = csv_to_instance(test_filenames)"
   ]
  },
  {
   "cell_type": "code",
   "execution_count": 5,
   "metadata": {},
   "outputs": [
    {
     "output_type": "execute_result",
     "data": {
      "text/plain": [
       "          id  origin  destination  quantity  early\n",
       "0          0   11664         3778         1      0\n",
       "1          1   10677          643         1      0\n",
       "2          2    9905         5238         1      0\n",
       "3          4   11870         2019         1      0\n",
       "4          5    5673         7263         1      0\n",
       "...      ...     ...          ...       ...    ...\n",
       "17065  74598    2423         7901         1  10797\n",
       "17066  74599    5062         3866         1  10798\n",
       "17067  74600   10983         9698         1  10799\n",
       "17068  74601   10352         6035         1  10799\n",
       "17069  74602    5645        11770         1  10799\n",
       "\n",
       "[62928 rows x 5 columns]"
      ],
      "text/html": "<div>\n<style scoped>\n    .dataframe tbody tr th:only-of-type {\n        vertical-align: middle;\n    }\n\n    .dataframe tbody tr th {\n        vertical-align: top;\n    }\n\n    .dataframe thead th {\n        text-align: right;\n    }\n</style>\n<table border=\"1\" class=\"dataframe\">\n  <thead>\n    <tr style=\"text-align: right;\">\n      <th></th>\n      <th>id</th>\n      <th>origin</th>\n      <th>destination</th>\n      <th>quantity</th>\n      <th>early</th>\n    </tr>\n  </thead>\n  <tbody>\n    <tr>\n      <th>0</th>\n      <td>0</td>\n      <td>11664</td>\n      <td>3778</td>\n      <td>1</td>\n      <td>0</td>\n    </tr>\n    <tr>\n      <th>1</th>\n      <td>1</td>\n      <td>10677</td>\n      <td>643</td>\n      <td>1</td>\n      <td>0</td>\n    </tr>\n    <tr>\n      <th>2</th>\n      <td>2</td>\n      <td>9905</td>\n      <td>5238</td>\n      <td>1</td>\n      <td>0</td>\n    </tr>\n    <tr>\n      <th>3</th>\n      <td>4</td>\n      <td>11870</td>\n      <td>2019</td>\n      <td>1</td>\n      <td>0</td>\n    </tr>\n    <tr>\n      <th>4</th>\n      <td>5</td>\n      <td>5673</td>\n      <td>7263</td>\n      <td>1</td>\n      <td>0</td>\n    </tr>\n    <tr>\n      <th>...</th>\n      <td>...</td>\n      <td>...</td>\n      <td>...</td>\n      <td>...</td>\n      <td>...</td>\n    </tr>\n    <tr>\n      <th>17065</th>\n      <td>74598</td>\n      <td>2423</td>\n      <td>7901</td>\n      <td>1</td>\n      <td>10797</td>\n    </tr>\n    <tr>\n      <th>17066</th>\n      <td>74599</td>\n      <td>5062</td>\n      <td>3866</td>\n      <td>1</td>\n      <td>10798</td>\n    </tr>\n    <tr>\n      <th>17067</th>\n      <td>74600</td>\n      <td>10983</td>\n      <td>9698</td>\n      <td>1</td>\n      <td>10799</td>\n    </tr>\n    <tr>\n      <th>17068</th>\n      <td>74601</td>\n      <td>10352</td>\n      <td>6035</td>\n      <td>1</td>\n      <td>10799</td>\n    </tr>\n    <tr>\n      <th>17069</th>\n      <td>74602</td>\n      <td>5645</td>\n      <td>11770</td>\n      <td>1</td>\n      <td>10799</td>\n    </tr>\n  </tbody>\n</table>\n<p>62928 rows × 5 columns</p>\n</div>"
     },
     "metadata": {},
     "execution_count": 5
    }
   ],
   "source": [
    "customers['quantity']=1\n",
    "customers"
   ]
  },
  {
   "cell_type": "code",
   "execution_count": 6,
   "metadata": {},
   "outputs": [],
   "source": [
    "jih.saveInstance('./Simonetto/sim-test.instance',customers,vehicles)"
   ]
  },
  {
   "cell_type": "code",
   "execution_count": 7,
   "metadata": {},
   "outputs": [
    {
     "output_type": "execute_result",
     "data": {
      "text/plain": [
       "      id  origin  destination  quantity  early\n",
       "0      0   11664         3778         1      0\n",
       "1      1   10677          643         1      0\n",
       "2      2    9905         5238         1      0\n",
       "3      4   11870         2019         1      0\n",
       "4      5    5673         7263         1      0\n",
       "..   ...     ...          ...       ...    ...\n",
       "252  281    6365         1799         1      8\n",
       "253  282      29         5496         1      8\n",
       "254  284    3201         4031         1      9\n",
       "255  286    8931         6605         1      9\n",
       "256  287   11858        11664         1      9\n",
       "\n",
       "[257 rows x 5 columns]"
      ],
      "text/html": "<div>\n<style scoped>\n    .dataframe tbody tr th:only-of-type {\n        vertical-align: middle;\n    }\n\n    .dataframe tbody tr th {\n        vertical-align: top;\n    }\n\n    .dataframe thead th {\n        text-align: right;\n    }\n</style>\n<table border=\"1\" class=\"dataframe\">\n  <thead>\n    <tr style=\"text-align: right;\">\n      <th></th>\n      <th>id</th>\n      <th>origin</th>\n      <th>destination</th>\n      <th>quantity</th>\n      <th>early</th>\n    </tr>\n  </thead>\n  <tbody>\n    <tr>\n      <th>0</th>\n      <td>0</td>\n      <td>11664</td>\n      <td>3778</td>\n      <td>1</td>\n      <td>0</td>\n    </tr>\n    <tr>\n      <th>1</th>\n      <td>1</td>\n      <td>10677</td>\n      <td>643</td>\n      <td>1</td>\n      <td>0</td>\n    </tr>\n    <tr>\n      <th>2</th>\n      <td>2</td>\n      <td>9905</td>\n      <td>5238</td>\n      <td>1</td>\n      <td>0</td>\n    </tr>\n    <tr>\n      <th>3</th>\n      <td>4</td>\n      <td>11870</td>\n      <td>2019</td>\n      <td>1</td>\n      <td>0</td>\n    </tr>\n    <tr>\n      <th>4</th>\n      <td>5</td>\n      <td>5673</td>\n      <td>7263</td>\n      <td>1</td>\n      <td>0</td>\n    </tr>\n    <tr>\n      <th>...</th>\n      <td>...</td>\n      <td>...</td>\n      <td>...</td>\n      <td>...</td>\n      <td>...</td>\n    </tr>\n    <tr>\n      <th>252</th>\n      <td>281</td>\n      <td>6365</td>\n      <td>1799</td>\n      <td>1</td>\n      <td>8</td>\n    </tr>\n    <tr>\n      <th>253</th>\n      <td>282</td>\n      <td>29</td>\n      <td>5496</td>\n      <td>1</td>\n      <td>8</td>\n    </tr>\n    <tr>\n      <th>254</th>\n      <td>284</td>\n      <td>3201</td>\n      <td>4031</td>\n      <td>1</td>\n      <td>9</td>\n    </tr>\n    <tr>\n      <th>255</th>\n      <td>286</td>\n      <td>8931</td>\n      <td>6605</td>\n      <td>1</td>\n      <td>9</td>\n    </tr>\n    <tr>\n      <th>256</th>\n      <td>287</td>\n      <td>11858</td>\n      <td>11664</td>\n      <td>1</td>\n      <td>9</td>\n    </tr>\n  </tbody>\n</table>\n<p>257 rows × 5 columns</p>\n</div>"
     },
     "metadata": {},
     "execution_count": 7
    }
   ],
   "source": [
    "customers[customers['early']<10]"
   ]
  },
  {
   "cell_type": "code",
   "execution_count": 14,
   "metadata": {},
   "outputs": [
    {
     "output_type": "stream",
     "name": "stdout",
     "text": [
      "Getting vehicle locations\n",
      "DEBUG: loading instance from Manhattan/mny-1-5000.instance\n",
      "DEBUG: loaded instance data with 10033 entities\n",
      "DEBUG: instance contains 5033 customers\n",
      "DEBUG: instance contains 5000 vehicles\n",
      "\n",
      "\n",
      "\n",
      "~~~~~~~~~~~~ creating ./Simonetto/sim-5may-hr0_hr5-sample.instance ~~~~~~~~~~~~\n",
      "including 6 files\n",
      "instance requests start at 2013-05-05 00:00:00\n",
      "total number of requests: 85158\n",
      "number of chosen requests: 4627\n",
      "\n",
      "\n",
      "\n",
      "~~~~~~~~~~~~ creating ./Simonetto/sim-5may-hr6_hr11-sample.instance ~~~~~~~~~~~~\n",
      "including 6 files\n",
      "instance requests start at 2013-05-05 06:00:00\n",
      "total number of requests: 61047\n",
      "number of chosen requests: 420\n",
      "\n",
      "\n",
      "\n",
      "~~~~~~~~~~~~ creating ./Simonetto/sim-5may-hr12_hr17-sample.instance ~~~~~~~~~~~~\n",
      "including 6 files\n",
      "instance requests start at 2013-05-05 12:00:00\n",
      "total number of requests: 119830\n",
      "number of chosen requests: 3482\n",
      "\n",
      "\n",
      "\n",
      "~~~~~~~~~~~~ creating ./Simonetto/sim-5may-hr18_hr23-sample.instance ~~~~~~~~~~~~\n",
      "including 6 files\n",
      "instance requests start at 2013-05-05 18:00:00\n",
      "total number of requests: 113114\n",
      "number of chosen requests: 3826\n",
      "\n",
      "\n",
      "\n",
      "~~~~~~~~~~~~ creating ./Simonetto/sim-6may-hr0_hr5-sample.instance ~~~~~~~~~~~~\n",
      "including 6 files\n",
      "instance requests start at 2013-05-06 00:00:00\n",
      "total number of requests: 21202\n",
      "number of chosen requests: 1650\n",
      "\n",
      "\n",
      "\n",
      "~~~~~~~~~~~~ creating ./Simonetto/sim-6may-hr6_hr11-sample.instance ~~~~~~~~~~~~\n",
      "including 6 files\n",
      "instance requests start at 2013-05-06 06:00:00\n",
      "total number of requests: 115391\n",
      "number of chosen requests: 865\n",
      "\n",
      "\n",
      "\n",
      "~~~~~~~~~~~~ creating ./Simonetto/sim-6may-hr12_hr17-sample.instance ~~~~~~~~~~~~\n",
      "including 6 files\n",
      "instance requests start at 2013-05-06 12:00:00\n",
      "total number of requests: 119465\n",
      "number of chosen requests: 3646\n",
      "\n",
      "\n",
      "\n",
      "~~~~~~~~~~~~ creating ./Simonetto/sim-6may-hr18_hr23-sample.instance ~~~~~~~~~~~~\n",
      "including 6 files\n",
      "instance requests start at 2013-05-06 18:00:00\n",
      "total number of requests: 131433\n",
      "number of chosen requests: 4550\n",
      "\n",
      "\n",
      "\n",
      "~~~~~~~~~~~~ creating ./Simonetto/sim-7may-hr0_hr5-sample.instance ~~~~~~~~~~~~\n",
      "including 6 files\n",
      "instance requests start at 2013-05-07 00:00:00\n",
      "total number of requests: 22535\n",
      "number of chosen requests: 1845\n",
      "\n",
      "\n",
      "\n",
      "~~~~~~~~~~~~ creating ./Simonetto/sim-7may-hr6_hr11-sample.instance ~~~~~~~~~~~~\n",
      "including 6 files\n",
      "instance requests start at 2013-05-07 06:00:00\n",
      "total number of requests: 121693\n",
      "number of chosen requests: 927\n",
      "\n",
      "\n",
      "\n",
      "~~~~~~~~~~~~ creating ./Simonetto/sim-7may-hr12_hr17-sample.instance ~~~~~~~~~~~~\n",
      "including 6 files\n",
      "instance requests start at 2013-05-07 12:00:00\n",
      "total number of requests: 122370\n",
      "number of chosen requests: 3770\n",
      "\n",
      "\n",
      "\n",
      "~~~~~~~~~~~~ creating ./Simonetto/sim-7may-hr18_hr23-sample.instance ~~~~~~~~~~~~\n",
      "including 6 files\n",
      "instance requests start at 2013-05-07 18:00:00\n",
      "total number of requests: 146603\n",
      "number of chosen requests: 4747\n",
      "\n",
      "\n",
      "\n",
      "~~~~~~~~~~~~ creating ./Simonetto/sim-8may-hr0_hr5-sample.instance ~~~~~~~~~~~~\n",
      "including 6 files\n",
      "instance requests start at 2013-05-08 00:00:00\n",
      "total number of requests: 28277\n",
      "number of chosen requests: 2194\n",
      "\n",
      "\n",
      "\n",
      "~~~~~~~~~~~~ creating ./Simonetto/sim-8may-hr6_hr11-sample.instance ~~~~~~~~~~~~\n",
      "including 6 files\n",
      "instance requests start at 2013-05-08 06:00:00\n",
      "total number of requests: 126691\n",
      "number of chosen requests: 1142\n",
      "\n",
      "\n",
      "\n",
      "~~~~~~~~~~~~ creating ./Simonetto/sim-8may-hr12_hr17-sample.instance ~~~~~~~~~~~~\n",
      "including 6 files\n",
      "instance requests start at 2013-05-08 12:00:00\n",
      "total number of requests: 122287\n",
      "number of chosen requests: 4534\n",
      "\n",
      "\n",
      "\n",
      "~~~~~~~~~~~~ creating ./Simonetto/sim-8may-hr18_hr23-sample.instance ~~~~~~~~~~~~\n",
      "including 6 files\n",
      "instance requests start at 2013-05-08 18:00:00\n",
      "total number of requests: 148798\n",
      "number of chosen requests: 4256\n",
      "\n",
      "\n",
      "\n",
      "~~~~~~~~~~~~ creating ./Simonetto/sim-9may-hr0_hr5-sample.instance ~~~~~~~~~~~~\n",
      "including 6 files\n",
      "instance requests start at 2013-05-09 00:00:00\n",
      "total number of requests: 29983\n",
      "number of chosen requests: 2612\n",
      "\n",
      "\n",
      "\n",
      "~~~~~~~~~~~~ creating ./Simonetto/sim-9may-hr6_hr11-sample.instance ~~~~~~~~~~~~\n",
      "including 6 files\n",
      "instance requests start at 2013-05-09 06:00:00\n",
      "total number of requests: 131179\n",
      "number of chosen requests: 983\n",
      "\n",
      "\n",
      "\n",
      "~~~~~~~~~~~~ creating ./Simonetto/sim-9may-hr12_hr17-sample.instance ~~~~~~~~~~~~\n",
      "including 6 files\n",
      "instance requests start at 2013-05-09 12:00:00\n",
      "total number of requests: 116417\n",
      "number of chosen requests: 3866\n",
      "\n",
      "\n",
      "\n",
      "~~~~~~~~~~~~ creating ./Simonetto/sim-9may-hr18_hr23-sample.instance ~~~~~~~~~~~~\n",
      "including 6 files\n",
      "instance requests start at 2013-05-09 18:00:00\n",
      "total number of requests: 159130\n",
      "number of chosen requests: 4340\n",
      "\n",
      "\n",
      "\n",
      "~~~~~~~~~~~~ creating ./Simonetto/sim-10may-hr0_hr5-sample.instance ~~~~~~~~~~~~\n",
      "including 6 files\n",
      "instance requests start at 2013-05-10 00:00:00\n",
      "total number of requests: 44858\n",
      "number of chosen requests: 3380\n",
      "\n",
      "\n",
      "\n",
      "~~~~~~~~~~~~ creating ./Simonetto/sim-10may-hr6_hr11-sample.instance ~~~~~~~~~~~~\n",
      "including 6 files\n",
      "instance requests start at 2013-05-10 06:00:00\n",
      "total number of requests: 120361\n",
      "number of chosen requests: 888\n",
      "\n",
      "\n",
      "\n",
      "~~~~~~~~~~~~ creating ./Simonetto/sim-10may-hr12_hr17-sample.instance ~~~~~~~~~~~~\n",
      "including 6 files\n",
      "instance requests start at 2013-05-10 12:00:00\n",
      "total number of requests: 113791\n",
      "number of chosen requests: 3973\n",
      "\n",
      "\n",
      "\n",
      "~~~~~~~~~~~~ creating ./Simonetto/sim-10may-hr18_hr23-sample.instance ~~~~~~~~~~~~\n",
      "including 6 files\n",
      "instance requests start at 2013-05-10 18:00:00\n",
      "total number of requests: 165477\n",
      "number of chosen requests: 4199\n",
      "\n",
      "\n",
      "\n",
      "~~~~~~~~~~~~ creating ./Simonetto/sim-11may-hr0_hr5-sample.instance ~~~~~~~~~~~~\n",
      "including 6 files\n",
      "instance requests start at 2013-05-11 00:00:00\n",
      "total number of requests: 80718\n",
      "number of chosen requests: 4493\n",
      "\n",
      "\n",
      "\n",
      "~~~~~~~~~~~~ creating ./Simonetto/sim-11may-hr6_hr11-sample.instance ~~~~~~~~~~~~\n",
      "including 6 files\n",
      "instance requests start at 2013-05-11 06:00:00\n",
      "total number of requests: 80252\n",
      "number of chosen requests: 513\n",
      "\n",
      "\n",
      "\n",
      "~~~~~~~~~~~~ creating ./Simonetto/sim-11may-hr12_hr17-sample.instance ~~~~~~~~~~~~\n",
      "including 6 files\n",
      "instance requests start at 2013-05-11 12:00:00\n",
      "total number of requests: 131639\n",
      "number of chosen requests: 4038\n",
      "\n",
      "\n",
      "\n",
      "~~~~~~~~~~~~ creating ./Simonetto/sim-11may-hr18_hr23-sample.instance ~~~~~~~~~~~~\n",
      "including 6 files\n",
      "instance requests start at 2013-05-11 18:00:00\n",
      "total number of requests: 151452\n",
      "number of chosen requests: 4545\n"
     ]
    }
   ],
   "source": [
    "#we will use the randomly distributed vehicle locations of the other Manhattan instances\n",
    "print(\"Getting vehicle locations\")\n",
    "_, temp_vehicles = jih.loadInstance(\"Manhattan/mny-1-5000.instance\",debug=True)\n",
    "hour_configs=[ range(0,6),\n",
    "                range(6,12),\n",
    "                range(12,18),\n",
    "                range(18,24) ]\n",
    "\n",
    "for day in [5,6,7,8,9,10,11]:\n",
    "    for config in hour_configs:\n",
    "        instance_filename = \"./Simonetto/sim-%dmay-hr%d_hr%d-sample.instance\"%(day,min(config),max(config))\n",
    "        print(\"\\n\\n\\n~~~~~~~~~~~~ creating %s ~~~~~~~~~~~~\"%instance_filename)\n",
    "\n",
    "        test_filenames = [\"./Simonetto/filtered_nodeid/may%d_hour%d.csv\"%(day,hour) for hour in config]\n",
    "        print(\"including %d files\"%len(test_filenames))\n",
    "        temp_customers = csv_to_instance(test_filenames)\n",
    "        temp_customers['quantity']=1\n",
    "        temp_customers = temp_customers[temp_customers['early']<=600]\n",
    "        print(\"number of chosen requests:\",len(temp_customers))\n",
    "\n",
    "        jih.saveInstance(instance_filename,temp_customers,temp_vehicles)\n"
   ]
  },
  {
   "cell_type": "code",
   "execution_count": null,
   "metadata": {},
   "outputs": [],
   "source": []
  }
 ]
}