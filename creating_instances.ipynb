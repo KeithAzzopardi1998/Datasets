{
 "metadata": {
  "language_info": {
   "codemirror_mode": {
    "name": "ipython",
    "version": 3
   },
   "file_extension": ".py",
   "mimetype": "text/x-python",
   "name": "python",
   "nbconvert_exporter": "python",
   "pygments_lexer": "ipython3",
   "version": "3.8.6-final"
  },
  "orig_nbformat": 2,
  "kernelspec": {
   "name": "python38664bitjargoconda4f0ee05060cc49e78d629478e5e47a11",
   "display_name": "Python 3.8.6 64-bit ('jargo': conda)"
  }
 },
 "nbformat": 4,
 "nbformat_minor": 2,
 "cells": [
  {
   "cell_type": "code",
   "execution_count": 1,
   "metadata": {},
   "outputs": [],
   "source": [
    "import numpy as np \n",
    "np.random.seed(100)\n",
    "import matplotlib.pyplot as plt \n",
    "%matplotlib inline\n",
    "import seaborn as sns\n",
    "import pandas as pd \n",
    "\n",
    "import JargoInstanceHelper as jih \n"
   ]
  },
  {
   "source": [
    "# Creating instances with higher capacities"
   ],
   "cell_type": "markdown",
   "metadata": {}
  },
  {
   "cell_type": "code",
   "execution_count": 5,
   "metadata": {},
   "outputs": [
    {
     "output_type": "stream",
     "name": "stdout",
     "text": [
      "DEBUG: loading instance from Manhattan/mny-1-5000.instance\nDEBUG: loaded instance data with 10033 entities\nDEBUG: instance contains 5033 customers\nDEBUG: instance contains 5000 vehicles\n"
     ]
    }
   ],
   "source": [
    "instance_path=\"Manhattan/mny-1-5000.instance\"\n",
    "customers, vehicles = jih.loadInstance(instance_path,debug=True)"
   ]
  },
  {
   "cell_type": "code",
   "execution_count": 7,
   "metadata": {},
   "outputs": [],
   "source": [
    "vehicles['quantity']=6\n",
    "jih.saveInstance('Manhattan/mny-6-5000.instance',customers,vehicles)"
   ]
  },
  {
   "cell_type": "code",
   "execution_count": 9,
   "metadata": {},
   "outputs": [],
   "source": [
    "vehicles['quantity']=10\n",
    "jih.saveInstance('Manhattan/mny-7-5000.instance',customers,vehicles)"
   ]
  },
  {
   "source": [
    "# Creating instances with carpooling vehicles"
   ],
   "cell_type": "markdown",
   "metadata": {}
  },
  {
   "source": [
    "We will create a couple of instances with type 3 vehicles by taking one of the test instances from Manhattan and modifying the destination of the vehicles (which is 0 for all of them by default)"
   ],
   "cell_type": "markdown",
   "metadata": {}
  },
  {
   "cell_type": "code",
   "execution_count": 6,
   "metadata": {},
   "outputs": [
    {
     "output_type": "stream",
     "name": "stdout",
     "text": [
      "DEBUG: loading instance from Manhattan/mny-1-5000.instance\nDEBUG: loaded instance data with 10033 entities\nDEBUG: instance contains 5033 customers\nDEBUG: instance contains 5000 vehicles\n"
     ]
    }
   ],
   "source": [
    "instance_path=\"Manhattan/mny-1-5000.instance\"\n",
    "customers, vehicles = jih.loadInstance(instance_path,debug=True)"
   ]
  },
  {
   "cell_type": "code",
   "execution_count": 7,
   "metadata": {},
   "outputs": [
    {
     "output_type": "stream",
     "name": "stdout",
     "text": [
      "there are 1 vehicles with the same origin and destination\n"
     ]
    },
    {
     "output_type": "execute_result",
     "data": {
      "text/plain": [
       "                id        origin   destination  quantity   early\n",
       "count  5000.000000   5000.000000   5000.000000    5000.0  5000.0\n",
       "mean   2500.500000   5951.454200   3074.970000       3.0     0.0\n",
       "std    1443.520003   3540.830722   3976.650628       0.0     0.0\n",
       "min       1.000000      2.000000      0.000000       3.0     0.0\n",
       "25%    1250.750000   2914.000000      0.000000       3.0     0.0\n",
       "50%    2500.500000   5717.000000      0.500000       3.0     0.0\n",
       "75%    3750.250000   9073.250000   6060.250000       3.0     0.0\n",
       "max    5000.000000  12309.000000  12313.000000       3.0     0.0"
      ],
      "text/html": "<div>\n<style scoped>\n    .dataframe tbody tr th:only-of-type {\n        vertical-align: middle;\n    }\n\n    .dataframe tbody tr th {\n        vertical-align: top;\n    }\n\n    .dataframe thead th {\n        text-align: right;\n    }\n</style>\n<table border=\"1\" class=\"dataframe\">\n  <thead>\n    <tr style=\"text-align: right;\">\n      <th></th>\n      <th>id</th>\n      <th>origin</th>\n      <th>destination</th>\n      <th>quantity</th>\n      <th>early</th>\n    </tr>\n  </thead>\n  <tbody>\n    <tr>\n      <th>count</th>\n      <td>5000.000000</td>\n      <td>5000.000000</td>\n      <td>5000.000000</td>\n      <td>5000.0</td>\n      <td>5000.0</td>\n    </tr>\n    <tr>\n      <th>mean</th>\n      <td>2500.500000</td>\n      <td>5951.454200</td>\n      <td>3074.970000</td>\n      <td>3.0</td>\n      <td>0.0</td>\n    </tr>\n    <tr>\n      <th>std</th>\n      <td>1443.520003</td>\n      <td>3540.830722</td>\n      <td>3976.650628</td>\n      <td>0.0</td>\n      <td>0.0</td>\n    </tr>\n    <tr>\n      <th>min</th>\n      <td>1.000000</td>\n      <td>2.000000</td>\n      <td>0.000000</td>\n      <td>3.0</td>\n      <td>0.0</td>\n    </tr>\n    <tr>\n      <th>25%</th>\n      <td>1250.750000</td>\n      <td>2914.000000</td>\n      <td>0.000000</td>\n      <td>3.0</td>\n      <td>0.0</td>\n    </tr>\n    <tr>\n      <th>50%</th>\n      <td>2500.500000</td>\n      <td>5717.000000</td>\n      <td>0.500000</td>\n      <td>3.0</td>\n      <td>0.0</td>\n    </tr>\n    <tr>\n      <th>75%</th>\n      <td>3750.250000</td>\n      <td>9073.250000</td>\n      <td>6060.250000</td>\n      <td>3.0</td>\n      <td>0.0</td>\n    </tr>\n    <tr>\n      <th>max</th>\n      <td>5000.000000</td>\n      <td>12309.000000</td>\n      <td>12313.000000</td>\n      <td>3.0</td>\n      <td>0.0</td>\n    </tr>\n  </tbody>\n</table>\n</div>"
     },
     "metadata": {},
     "execution_count": 7
    }
   ],
   "source": [
    "to_modify=vehicles.sample(frac=0.5)\n",
    "#we kwow that there are 12,320 vertices in Manhattan\n",
    "to_modify['destination']=np.random.randint(1, 12320, to_modify.shape[0])\n",
    "vehicles.update(to_modify)\n",
    "#\"update\" automatically conversts all numeric values to doubles\n",
    "vehicles=vehicles.astype(int)\n",
    "print(\"there are %d vehicles with the same origin and destination\"%len(vehicles[vehicles['origin']==vehicles['destination']]))\n",
    "vehicles.describe()"
   ]
  },
  {
   "cell_type": "code",
   "execution_count": 8,
   "metadata": {},
   "outputs": [
    {
     "output_type": "execute_result",
     "data": {
      "text/plain": [
       "        id  origin  destination  quantity  early  late\n",
       "0        1     811         5939         3      0  2000\n",
       "1        2    7144            0         3      0  2000\n",
       "2        3   10068            0         3      0  2000\n",
       "3        4    9694         1201         3      0  2000\n",
       "4        5    5999            0         3      0  2000\n",
       "...    ...     ...          ...       ...    ...   ...\n",
       "4995  4996    5934            0         3      0  2000\n",
       "4996  4997    5308         6512         3      0  2000\n",
       "4997  4998    4971        11464         3      0  2000\n",
       "4998  4999     840            0         3      0  2000\n",
       "4999  5000    4696            0         3      0  2000\n",
       "\n",
       "[5000 rows x 6 columns]"
      ],
      "text/html": "<div>\n<style scoped>\n    .dataframe tbody tr th:only-of-type {\n        vertical-align: middle;\n    }\n\n    .dataframe tbody tr th {\n        vertical-align: top;\n    }\n\n    .dataframe thead th {\n        text-align: right;\n    }\n</style>\n<table border=\"1\" class=\"dataframe\">\n  <thead>\n    <tr style=\"text-align: right;\">\n      <th></th>\n      <th>id</th>\n      <th>origin</th>\n      <th>destination</th>\n      <th>quantity</th>\n      <th>early</th>\n      <th>late</th>\n    </tr>\n  </thead>\n  <tbody>\n    <tr>\n      <th>0</th>\n      <td>1</td>\n      <td>811</td>\n      <td>5939</td>\n      <td>3</td>\n      <td>0</td>\n      <td>2000</td>\n    </tr>\n    <tr>\n      <th>1</th>\n      <td>2</td>\n      <td>7144</td>\n      <td>0</td>\n      <td>3</td>\n      <td>0</td>\n      <td>2000</td>\n    </tr>\n    <tr>\n      <th>2</th>\n      <td>3</td>\n      <td>10068</td>\n      <td>0</td>\n      <td>3</td>\n      <td>0</td>\n      <td>2000</td>\n    </tr>\n    <tr>\n      <th>3</th>\n      <td>4</td>\n      <td>9694</td>\n      <td>1201</td>\n      <td>3</td>\n      <td>0</td>\n      <td>2000</td>\n    </tr>\n    <tr>\n      <th>4</th>\n      <td>5</td>\n      <td>5999</td>\n      <td>0</td>\n      <td>3</td>\n      <td>0</td>\n      <td>2000</td>\n    </tr>\n    <tr>\n      <th>...</th>\n      <td>...</td>\n      <td>...</td>\n      <td>...</td>\n      <td>...</td>\n      <td>...</td>\n      <td>...</td>\n    </tr>\n    <tr>\n      <th>4995</th>\n      <td>4996</td>\n      <td>5934</td>\n      <td>0</td>\n      <td>3</td>\n      <td>0</td>\n      <td>2000</td>\n    </tr>\n    <tr>\n      <th>4996</th>\n      <td>4997</td>\n      <td>5308</td>\n      <td>6512</td>\n      <td>3</td>\n      <td>0</td>\n      <td>2000</td>\n    </tr>\n    <tr>\n      <th>4997</th>\n      <td>4998</td>\n      <td>4971</td>\n      <td>11464</td>\n      <td>3</td>\n      <td>0</td>\n      <td>2000</td>\n    </tr>\n    <tr>\n      <th>4998</th>\n      <td>4999</td>\n      <td>840</td>\n      <td>0</td>\n      <td>3</td>\n      <td>0</td>\n      <td>2000</td>\n    </tr>\n    <tr>\n      <th>4999</th>\n      <td>5000</td>\n      <td>4696</td>\n      <td>0</td>\n      <td>3</td>\n      <td>0</td>\n      <td>2000</td>\n    </tr>\n  </tbody>\n</table>\n<p>5000 rows × 6 columns</p>\n</div>"
     },
     "metadata": {},
     "execution_count": 8
    }
   ],
   "source": [
    "#setting the late time to 2000 arbitrarily\n",
    "vehicles['late']=2000\n",
    "customers['late']=2000\n",
    "vehicles"
   ]
  },
  {
   "cell_type": "code",
   "execution_count": 9,
   "metadata": {},
   "outputs": [],
   "source": [
    "jih.saveInstance('Manhattan/mny-8-5000.instance',customers,vehicles)"
   ]
  },
  {
   "cell_type": "code",
   "execution_count": null,
   "metadata": {},
   "outputs": [],
   "source": []
  }
 ]
}